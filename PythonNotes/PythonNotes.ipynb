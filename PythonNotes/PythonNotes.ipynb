{
  "nbformat": 4,
  "nbformat_minor": 0,
  "metadata": {
    "colab": {
      "provenance": [],
      "collapsed_sections": [
        "eTQZVwAj4jpO",
        "e7EivRFp9gVo",
        "CS40jAO59jy4"
      ],
      "toc_visible": true,
      "authorship_tag": "ABX9TyN+LjkJ2c1JXb/nknHUdZrp",
      "include_colab_link": true
    },
    "kernelspec": {
      "name": "python3",
      "display_name": "Python 3"
    },
    "language_info": {
      "name": "python"
    }
  },
  "cells": [
    {
      "cell_type": "markdown",
      "metadata": {
        "id": "view-in-github",
        "colab_type": "text"
      },
      "source": [
        "<a href=\"https://colab.research.google.com/github/Ansh-Kushwaha/IV-SEM-Repo/blob/main/PythonNotes/PythonNotes.ipynb\" target=\"_parent\"><img src=\"https://colab.research.google.com/assets/colab-badge.svg\" alt=\"Open In Colab\"/></a>"
      ]
    },
    {
      "cell_type": "markdown",
      "source": [
        "# **Hello World Program** / **Introduction**"
      ],
      "metadata": {
        "id": "eTQZVwAj4jpO"
      }
    },
    {
      "cell_type": "code",
      "execution_count": null,
      "metadata": {
        "colab": {
          "base_uri": "https://localhost:8080/"
        },
        "id": "dICnNfzI38dj",
        "outputId": "c7165ada-883d-43c5-801d-1d2774bb0cb3"
      },
      "outputs": [
        {
          "output_type": "stream",
          "name": "stdout",
          "text": [
            "Hello World!\n"
          ]
        }
      ],
      "source": [
        "print(\"Hello World!\")"
      ]
    },
    {
      "cell_type": "markdown",
      "source": [
        "## Indentation\n",
        "It refers to the spaces at the beginning of a code line."
      ],
      "metadata": {
        "id": "e7EivRFp9gVo"
      }
    },
    {
      "cell_type": "code",
      "source": [
        "def myPrintFun():\n",
        "  print(\"Indentation!\")\n",
        "\n",
        "myPrintFun()"
      ],
      "metadata": {
        "colab": {
          "base_uri": "https://localhost:8080/"
        },
        "id": "_lT0YSlH91ag",
        "outputId": "09f207cf-3d4a-468e-94ba-4c9a23de6688"
      },
      "execution_count": 7,
      "outputs": [
        {
          "output_type": "stream",
          "name": "stdout",
          "text": [
            "Indentation!\n"
          ]
        }
      ]
    },
    {
      "cell_type": "markdown",
      "source": [
        "## Comments\n",
        "Comments can be used to explain python code, make the code more readable.\n",
        "Single line comments start with a #, <br>\n",
        "multiline comments can be put inside triple quotes ''' ''' or a # before each line."
      ],
      "metadata": {
        "id": "CS40jAO59jy4"
      }
    },
    {
      "cell_type": "code",
      "source": [
        "# This is a comment\n",
        "\"\"\" \n",
        "This is a\n",
        "multiline comment\n",
        "\"\"\"\n",
        "# Also a\n",
        "# multiline comment"
      ],
      "metadata": {
        "colab": {
          "base_uri": "https://localhost:8080/",
          "height": 35
        },
        "id": "X5unlrfb6Pss",
        "outputId": "54be34f6-0461-4a2b-db83-07a45e84fd87"
      },
      "execution_count": null,
      "outputs": [
        {
          "output_type": "execute_result",
          "data": {
            "text/plain": [
              "' This is a\\n    multiline comment '"
            ],
            "application/vnd.google.colaboratory.intrinsic+json": {
              "type": "string"
            }
          },
          "metadata": {},
          "execution_count": 3
        }
      ]
    },
    {
      "cell_type": "markdown",
      "source": [
        "# **Variables**\n",
        "Variables are containers for storing data values."
      ],
      "metadata": {
        "id": "F2c-ciHX6osi"
      }
    },
    {
      "cell_type": "markdown",
      "source": [
        "- If you want to specify the data type of a variable, this can be done with casting.\n",
        "\n",
        "- You can get the data type of a variable with the type() function."
      ],
      "metadata": {
        "id": "gag95L79-IM4"
      }
    },
    {
      "cell_type": "code",
      "source": [
        "x = 1 #int\n",
        "y = \"ABC\" #String\n",
        "z = 'DEF' #String\n",
        "\n",
        "print(x, y, z)\n",
        "\n",
        "# Multiple assignment\n",
        "a, b, c = 25, 30, 35\n",
        "\n",
        "print(a, b, c)\n",
        "\n",
        "# One value to multiple variables\n",
        "X = Y = Z = 1\n",
        "\n",
        "print(X, Y, Z)\n",
        "\n",
        "# Unpacking list\n",
        "fruits = [\"Apple\", \"Banana\", \"Cherry\"]\n",
        "d, e, f = fruits\n",
        "\n",
        "print(d, e, f)\n",
        "\n",
        "# Variable scope\n",
        "s = \"awesome\"\n",
        "\n",
        "def myF():\n",
        "    s = \"fantastic\" # local s\n",
        "    print(\"Python is \" + s)\n",
        "\n",
        "myF()\n",
        "print(\"Python is \" + s)\n",
        "\n",
        "# global keyword\n",
        "\n",
        "def myF2():\n",
        "    global g\n",
        "    g = 12\n",
        "    print(g)\n",
        "myF2()\n",
        "print(g)\n"
      ],
      "metadata": {
        "colab": {
          "base_uri": "https://localhost:8080/"
        },
        "id": "IolLhgAb6ytz",
        "outputId": "56713ecf-77ba-42de-beb6-e002e5ecd05f"
      },
      "execution_count": null,
      "outputs": [
        {
          "output_type": "stream",
          "name": "stdout",
          "text": [
            "1 ABC DEF\n",
            "25 30 35\n",
            "1 1 1\n",
            "Apple Banana Cherry\n",
            "Python is fantastic\n",
            "Python is awesome\n",
            "12\n",
            "12\n"
          ]
        }
      ]
    },
    {
      "cell_type": "markdown",
      "source": [
        "# **Data Types**\n",
        "\n",
        "1. Text Type:\t*str*\n",
        "2. Numeric Types:\t*int*, *float*, *complex*\n",
        "3. Sequence Types:\t*list*, *tuple*, *range*\n",
        "4. Mapping Type: *dict*\n",
        "5. Set Types:\t*set*, *frozenset*\n",
        "6. Boolean Type:\t*bool*\n",
        "7. Binary Types:\t*bytes*, *bytearray*, *memoryview*\n",
        "8. None Type:\t*NoneType*"
      ],
      "metadata": {
        "id": "TAVome2776bP"
      }
    },
    {
      "cell_type": "markdown",
      "source": [
        "- Use the type() function to get the data type of a variable"
      ],
      "metadata": {
        "id": "gXppylXN-3zB"
      }
    },
    {
      "cell_type": "code",
      "source": [
        "a = \"Hello!\" # str\n",
        "print(a,\"\\t\", type(a))\n",
        "\n",
        "a = 99 # int\n",
        "print(a,\"\\t\", type(a))\n",
        "\n",
        "a = 75.3 # float\n",
        "print(a,\"\\t\", type(a))\n",
        "\n",
        "a = 2 + 3j # complex\n",
        "print(a,\"\\t\", type(a))\n",
        "\n",
        "a = [1, 2, 3] # list (mutable)\n",
        "print(a,\"\\t\", type(a))\n",
        "\n",
        "a = (1, 'a', 2j) # tuple (immutable)\n",
        "print(a,\"\\t\", type(a)) \n",
        "\n",
        "a = range(1, 11) # range\n",
        "print(a,\"\\t\", type(a))\n",
        "\n",
        "a = {'name': \"Ansh\", 'section': 'A'} # dict\n",
        "print(a,\"\\t\", type(a))\n",
        "\n",
        "a = {'orange', 'apple', 'banana'} # set (mutable)\n",
        "print(a,\"\\t\", type(a))\n",
        "\n",
        "a = frozenset(a)\n",
        "print(a,\"\\t\", type(a)) # frozenset (immutable)\n",
        "\n",
        "a = True # bool\n",
        "print(a,\"\\t\", type(a))"
      ],
      "metadata": {
        "colab": {
          "base_uri": "https://localhost:8080/"
        },
        "id": "rhZWKOg88fRv",
        "outputId": "0fb7d4a7-a1c9-4fed-c8a2-f371194b342e"
      },
      "execution_count": 27,
      "outputs": [
        {
          "output_type": "stream",
          "name": "stdout",
          "text": [
            "Hello! \t <class 'str'>\n",
            "99 \t <class 'int'>\n",
            "75.3 \t <class 'float'>\n",
            "(2+3j) \t <class 'complex'>\n",
            "[1, 2, 3] \t <class 'list'>\n",
            "(1, 'a', 2j) \t <class 'tuple'>\n",
            "range(1, 11) \t <class 'range'>\n",
            "{'name': 'Ansh', 'section': 'A'} \t <class 'dict'>\n",
            "{'banana', 'apple', 'orange'} \t <class 'set'>\n",
            "frozenset({'banana', 'apple', 'orange'}) \t <class 'frozenset'>\n",
            "False \t <class 'bool'>\n"
          ]
        }
      ]
    },
    {
      "cell_type": "markdown",
      "source": [
        "# **Type Casting**\n",
        "To specify the type of avariable, cast it into one of the many available data types.\n",
        "Casting is dont using constructor functions, such as int(), float(), etc."
      ],
      "metadata": {
        "id": "RMpPJ8guOvrb"
      }
    },
    {
      "cell_type": "code",
      "source": [
        "x = input()\n",
        "x = int(x)\n",
        "print(x)"
      ],
      "metadata": {
        "colab": {
          "base_uri": "https://localhost:8080/"
        },
        "id": "qT4fj7JGOz_r",
        "outputId": "b7387a7e-497e-4ece-8470-71e6d36326af"
      },
      "execution_count": null,
      "outputs": [
        {
          "output_type": "stream",
          "name": "stdout",
          "text": [
            "5\n",
            "5\n"
          ]
        }
      ]
    }
  ]
}