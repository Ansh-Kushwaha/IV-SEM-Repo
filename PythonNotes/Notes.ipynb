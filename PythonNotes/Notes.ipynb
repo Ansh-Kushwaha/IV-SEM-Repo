{
  "nbformat": 4,
  "nbformat_minor": 0,
  "metadata": {
    "colab": {
      "provenance": [],
      "authorship_tag": "ABX9TyOKRrld/aq0TUB0M8g1DNF3",
      "include_colab_link": true
    },
    "kernelspec": {
      "name": "python3",
      "display_name": "Python 3"
    },
    "language_info": {
      "name": "python"
    }
  },
  "cells": [
    {
      "cell_type": "markdown",
      "metadata": {
        "id": "view-in-github",
        "colab_type": "text"
      },
      "source": [
        "<a href=\"https://colab.research.google.com/github/Ansh-Kushwaha/IV-SEM-Repo/blob/main/PythonNotes/Notes.ipynb\" target=\"_parent\"><img src=\"https://colab.research.google.com/assets/colab-badge.svg\" alt=\"Open In Colab\"/></a>"
      ]
    },
    {
      "cell_type": "markdown",
      "source": [
        "Hello World Program"
      ],
      "metadata": {
        "id": "eTQZVwAj4jpO"
      }
    },
    {
      "cell_type": "code",
      "execution_count": 1,
      "metadata": {
        "colab": {
          "base_uri": "https://localhost:8080/"
        },
        "id": "dICnNfzI38dj",
        "outputId": "c7165ada-883d-43c5-801d-1d2774bb0cb3"
      },
      "outputs": [
        {
          "output_type": "stream",
          "name": "stdout",
          "text": [
            "Hello World!\n"
          ]
        }
      ],
      "source": [
        "print(\"Hello World!\")"
      ]
    },
    {
      "cell_type": "markdown",
      "source": [
        "Indentation: It refers to the spaces at the beginning of a code line.\n",
        "\n",
        "---\n",
        "Comments: Comments can be used to explain python code, make the code more readable.\n",
        "\n",
        "Single comments start with a #, multiline comments can be put inside triple quotes ''' ''' or a # before each line.\n",
        "\n",
        "---\n",
        "\n",
        "\n"
      ],
      "metadata": {
        "id": "TPVNopnU5YZy"
      }
    },
    {
      "cell_type": "code",
      "source": [
        "# This is a comment\n",
        "\"\"\" \n",
        "This is a\n",
        "multiline comment\n",
        "\"\"\"\n",
        "# Also a\n",
        "# multiline comment"
      ],
      "metadata": {
        "colab": {
          "base_uri": "https://localhost:8080/",
          "height": 35
        },
        "id": "X5unlrfb6Pss",
        "outputId": "54be34f6-0461-4a2b-db83-07a45e84fd87"
      },
      "execution_count": 3,
      "outputs": [
        {
          "output_type": "execute_result",
          "data": {
            "text/plain": [
              "' This is a\\n    multiline comment '"
            ],
            "application/vnd.google.colaboratory.intrinsic+json": {
              "type": "string"
            }
          },
          "metadata": {},
          "execution_count": 3
        }
      ]
    },
    {
      "cell_type": "markdown",
      "source": [
        "# **Variables**"
      ],
      "metadata": {
        "id": "F2c-ciHX6osi"
      }
    },
    {
      "cell_type": "code",
      "source": [
        "x = 1 #int\n",
        "y = \"ABC\" #String\n",
        "z = 'DEF' #String\n",
        "\n",
        "print(x, y, z)\n",
        "\n",
        "# Multiple assignment\n",
        "a, b, c = 25, 30, 35\n",
        "\n",
        "print(a, b, c)\n",
        "\n",
        "# One value to multiple variables\n",
        "X = Y = Z = 1\n",
        "\n",
        "print(X, Y, Z)\n",
        "\n",
        "# Unpacking list\n",
        "fruits = [\"Apple\", \"Banana\", \"Cherry\"]\n",
        "d, e, f = fruits\n",
        "\n",
        "print(d, e, f)\n",
        "\n",
        "# Variable scope\n",
        "s = \"awesome\"\n",
        "\n",
        "def myF():\n",
        "    s = \"fantastic\"\n",
        "    print(\"Python is \" + s)\n",
        "\n",
        "myF()\n",
        "print(\"Python is \" + s)\n",
        "\n",
        "# global keyword\n",
        "\n",
        "def myF2():\n",
        "    global g\n",
        "    g = 12\n",
        "    print(g)\n",
        "myF2()\n",
        "print(g)\n"
      ],
      "metadata": {
        "colab": {
          "base_uri": "https://localhost:8080/"
        },
        "id": "IolLhgAb6ytz",
        "outputId": "56713ecf-77ba-42de-beb6-e002e5ecd05f"
      },
      "execution_count": 5,
      "outputs": [
        {
          "output_type": "stream",
          "name": "stdout",
          "text": [
            "1 ABC DEF\n",
            "25 30 35\n",
            "1 1 1\n",
            "Apple Banana Cherry\n",
            "Python is fantastic\n",
            "Python is awesome\n",
            "12\n",
            "12\n"
          ]
        }
      ]
    }
  ]
}