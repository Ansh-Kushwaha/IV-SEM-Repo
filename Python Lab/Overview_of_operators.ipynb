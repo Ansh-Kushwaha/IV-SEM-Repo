{
  "nbformat": 4,
  "nbformat_minor": 0,
  "metadata": {
    "colab": {
      "provenance": [],
      "authorship_tag": "ABX9TyNLf6uRsW62z3Xy45/oAu3g",
      "include_colab_link": true
    },
    "kernelspec": {
      "name": "python3",
      "display_name": "Python 3"
    },
    "language_info": {
      "name": "python"
    }
  },
  "cells": [
    {
      "cell_type": "markdown",
      "metadata": {
        "id": "view-in-github",
        "colab_type": "text"
      },
      "source": [
        "<a href=\"https://colab.research.google.com/github/Ansh-Kushwaha/IV-SEM-Repo/blob/main/Python%20Lab/Overview_of_operators.ipynb\" target=\"_parent\"><img src=\"https://colab.research.google.com/assets/colab-badge.svg\" alt=\"Open In Colab\"/></a>"
      ]
    },
    {
      "cell_type": "markdown",
      "source": [
        "#Overview of operators"
      ],
      "metadata": {
        "id": "oJc2C6noo6Nt"
      }
    },
    {
      "cell_type": "code",
      "source": [
        "# Arithmetic Operators +, -, *, /\n",
        "a, b = 5, 10\n",
        "c, d = 4, 2\n",
        "e, f = 9, 2\n",
        "x, y = 50, 25\n",
        "\n",
        "print(a + b)\n",
        "print(c - d)\n",
        "print(e * f)\n",
        "print(x / y)"
      ],
      "metadata": {
        "colab": {
          "base_uri": "https://localhost:8080/"
        },
        "id": "zcHDTDq8pDWj",
        "outputId": "8962f5b5-220c-43ac-a011-e0b7da95d2df"
      },
      "execution_count": null,
      "outputs": [
        {
          "output_type": "stream",
          "name": "stdout",
          "text": [
            "15\n",
            "2\n",
            "18\n",
            "2.0\n"
          ]
        }
      ]
    },
    {
      "cell_type": "code",
      "source": [
        "# Identity Operators\n",
        "x = 5\n",
        "y = 5\n",
        "\n",
        "if x is y:\n",
        "  print(\"x equals y\")\n",
        "else:\n",
        "  print(\"x doesn't equal y\")\n",
        "\n",
        "a = 2\n",
        "b = 3\n",
        "if a is not b:\n",
        "  print(\"a is not b\")\n",
        "else:\n",
        "  print(\"a is b\")"
      ],
      "metadata": {
        "colab": {
          "base_uri": "https://localhost:8080/"
        },
        "id": "Qf-CXD9xpFat",
        "outputId": "5c9703c5-e33b-4db8-837e-79008768b992"
      },
      "execution_count": null,
      "outputs": [
        {
          "output_type": "stream",
          "name": "stdout",
          "text": [
            "x equals y\n",
            "a is not b\n"
          ]
        }
      ]
    },
    {
      "cell_type": "code",
      "source": [
        "# Membership Operators\n",
        "ls = [1, 2, 3, 4, 5]\n",
        "x = 4\n",
        "y = 6\n",
        "\n",
        "if x in ls:\n",
        "  print(x, \" is present in the list.\")\n",
        "else:\n",
        "  print(x, \" is not present in the list.\")\n",
        "\n",
        "if y not in ls:\n",
        "  print(y, \" is not present in the list.\")\n",
        "else:\n",
        "  print(y, \" is present in the list.\")"
      ],
      "metadata": {
        "colab": {
          "base_uri": "https://localhost:8080/"
        },
        "id": "2za1Hre0pHvs",
        "outputId": "f9f7a371-5bbd-4a8e-e983-57e717407888"
      },
      "execution_count": null,
      "outputs": [
        {
          "output_type": "stream",
          "name": "stdout",
          "text": [
            "4  is present in the list.\n",
            "6  is not present in the list.\n"
          ]
        }
      ]
    },
    {
      "cell_type": "code",
      "source": [
        "# Bitwise Operators\n",
        "a = 10 # 1010\n",
        "b = 4 # 0100\n",
        "\n",
        "print(\"a | b = \", a | b)\n",
        "print(\"a & b = \", a & b)\n",
        "print(\"~b = \", ~b)\n",
        "\n",
        "c = 8 #1000\n",
        "d = 7 #0111\n",
        "\n",
        "print(\"c XOR d = \", c ^ d)\n",
        "\n",
        "e = 4\n",
        "print(\"e << 1 = \", e << 1)\n",
        "print(\"e >> 1 = \", e >> 1)"
      ],
      "metadata": {
        "id": "wIAEADXIpLQ5",
        "outputId": "783e8e26-3200-43e3-dacb-b8d10d697c60",
        "colab": {
          "base_uri": "https://localhost:8080/"
        }
      },
      "execution_count": null,
      "outputs": [
        {
          "output_type": "stream",
          "name": "stdout",
          "text": [
            "a | b =  14\n",
            "a & b =  0\n",
            "~b =  -5\n",
            "c XOR d =  15\n",
            "e << 1 =  8\n",
            "e >> 1 =  2\n"
          ]
        }
      ]
    }
  ]
}